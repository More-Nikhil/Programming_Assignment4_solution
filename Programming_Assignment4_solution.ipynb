{
 "cells": [
  {
   "cell_type": "markdown",
   "id": "9a9ab07e-1cf9-4698-9bfb-7d833044d2f2",
   "metadata": {},
   "source": [
    "1. Write a Python Program to Find the Factorial of a Number?"
   ]
  },
  {
   "cell_type": "code",
   "execution_count": 37,
   "id": "b75bb75f-0943-461f-91ce-44ed538b8de4",
   "metadata": {},
   "outputs": [
    {
     "name": "stdin",
     "output_type": "stream",
     "text": [
      "Enter a number:  10\n"
     ]
    },
    {
     "name": "stdout",
     "output_type": "stream",
     "text": [
      "Factorial of 10 is 3628800\n"
     ]
    }
   ],
   "source": [
    "n=int(input(\"Enter a number: \"))\n",
    "factorial=1\n",
    "if n<0:\n",
    "      print(\"Factorial does not exist for negative number\")\n",
    "elif n==0:\n",
    "      print(\"The factorial of 0 is 1\")\n",
    "else:\n",
    "      for i in range(1,n+1):\n",
    "            factorial=factorial*i\n",
    "print(\"Factorial of\",n, \"is\", factorial)"
   ]
  },
  {
   "cell_type": "markdown",
   "id": "57bb539b-fd0b-4d15-8ee5-01fa5c5bcba9",
   "metadata": {},
   "source": [
    "2. Write a Python Program to Display the multiplication Table?"
   ]
  },
  {
   "cell_type": "code",
   "execution_count": 49,
   "id": "ac4e3668-f516-4901-8e82-600f1c5017b4",
   "metadata": {},
   "outputs": [
    {
     "name": "stdin",
     "output_type": "stream",
     "text": [
      "Enter a number:  5\n"
     ]
    },
    {
     "name": "stdout",
     "output_type": "stream",
     "text": [
      "5 X 1 = 5\n",
      "5 X 2 = 10\n",
      "5 X 3 = 15\n",
      "5 X 4 = 20\n",
      "5 X 5 = 25\n",
      "5 X 6 = 30\n",
      "5 X 7 = 35\n",
      "5 X 8 = 40\n",
      "5 X 9 = 45\n",
      "5 X 10 = 50\n"
     ]
    }
   ],
   "source": [
    "num=int(input(\"Enter a number: \"))\n",
    "for i in range (1,11):\n",
    "    a=i*num\n",
    "    print(f\"{num} X {i} = {a}\")"
   ]
  },
  {
   "cell_type": "markdown",
   "id": "34fe32b5-20a1-4494-9f34-8bdb3fd9f99e",
   "metadata": {},
   "source": [
    "3. Write a Python Program to Print the Fibonacci sequence?"
   ]
  },
  {
   "cell_type": "code",
   "execution_count": 14,
   "id": "9de90c83-0d00-4d5c-9f21-d1d96cef6194",
   "metadata": {},
   "outputs": [
    {
     "name": "stdout",
     "output_type": "stream",
     "text": [
      "Fibonacci Series is  0 1 1 2 3 5 8 13 21 34 "
     ]
    }
   ],
   "source": [
    "num=10\n",
    "n1=0\n",
    "n2=1\n",
    "print(\"Fibonacci Series is \", n1 , n2, end=\" \")\n",
    "for i in range(2,num):\n",
    "    n3=n1+n2\n",
    "    n1=n2\n",
    "    n2=n3\n",
    "    print(n3, end=\" \")\n"
   ]
  },
  {
   "cell_type": "markdown",
   "id": "677e12a3-5b08-43ff-b4ab-283433690f70",
   "metadata": {},
   "source": [
    "4. Write a Python Program to Check Armstrong Number?"
   ]
  },
  {
   "cell_type": "code",
   "execution_count": 1,
   "id": "58280560-f1e0-4ebb-92b0-71dfe6af583c",
   "metadata": {},
   "outputs": [
    {
     "name": "stdin",
     "output_type": "stream",
     "text": [
      "Enter a number:  156\n"
     ]
    },
    {
     "name": "stdout",
     "output_type": "stream",
     "text": [
      "156 is not an Armstrong number\n"
     ]
    }
   ],
   "source": [
    "num = int(input(\"Enter a number: \"))\n",
    "\n",
    "sum = 0\n",
    "n1 = len(str(num))\n",
    "temp = num\n",
    "while temp > 0:\n",
    "    digit = temp % 10\n",
    "    sum += digit ** n1\n",
    "    temp //= 10\n",
    "\n",
    "if num == sum:\n",
    "    print(num,\"is an Armstrong number\")\n",
    "else:\n",
    "    print(num,\"is not an Armstrong number\") "
   ]
  },
  {
   "cell_type": "markdown",
   "id": "2041016e-621c-4b23-aa06-b70e99c6575b",
   "metadata": {},
   "source": [
    "5. Write a Python Program to Find Armstrong Number in an Interval?"
   ]
  },
  {
   "cell_type": "code",
   "execution_count": 28,
   "id": "536ce4c0-c65d-4e71-81a1-b6554bba6771",
   "metadata": {},
   "outputs": [
    {
     "name": "stdin",
     "output_type": "stream",
     "text": [
      "Enter a upper limit:  1000\n",
      "Enter a lower limit:  100\n"
     ]
    },
    {
     "name": "stdout",
     "output_type": "stream",
     "text": [
      "153\n",
      "370\n",
      "371\n",
      "407\n"
     ]
    }
   ],
   "source": [
    "num1 =int(input(\"Enter a upper limit: \"))\n",
    "num2 =int(input(\"Enter a lower limit: \"))\n",
    "\n",
    "for num in range (num2, num1+1):\n",
    "    sum = 0\n",
    "    n1 = len(str(num))\n",
    "    temp = num\n",
    "    while temp > 0:\n",
    "        digit = temp % 10\n",
    "        sum += digit ** n1\n",
    "        temp //= 10\n",
    "            \n",
    "    if num == sum:\n",
    "        print(num)\n",
    "            "
   ]
  },
  {
   "cell_type": "markdown",
   "id": "552fa8fd-32d0-4fa6-896e-1edeaeaffe31",
   "metadata": {},
   "source": [
    "6. Write a Python Program to Find the Sum of Natural Numbers?"
   ]
  },
  {
   "cell_type": "code",
   "execution_count": null,
   "id": "76943e8b-bfda-421b-bb73-32dbb2534696",
   "metadata": {},
   "outputs": [],
   "source": [
    "num=15\n",
    "\n",
    "if num <=0:\n",
    "    print(\"Enter a positive number\")\n",
    "\n",
    "else:\n",
    "    sum=0  \n",
    "    while num >0:\n",
    "        sum+=num\n",
    "        num-=1\n",
    "    print(\"The sum is \", sum)"
   ]
  }
 ],
 "metadata": {
  "kernelspec": {
   "display_name": "Python 3 (ipykernel)",
   "language": "python",
   "name": "python3"
  },
  "language_info": {
   "codemirror_mode": {
    "name": "ipython",
    "version": 3
   },
   "file_extension": ".py",
   "mimetype": "text/x-python",
   "name": "python",
   "nbconvert_exporter": "python",
   "pygments_lexer": "ipython3",
   "version": "3.10.6"
  }
 },
 "nbformat": 4,
 "nbformat_minor": 5
}
